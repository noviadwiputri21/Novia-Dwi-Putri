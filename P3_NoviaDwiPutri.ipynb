{
  "nbformat": 4,
  "nbformat_minor": 0,
  "metadata": {
    "colab": {
      "provenance": [],
      "authorship_tag": "ABX9TyMslXNbqOywX/s8bSvZ9OkN",
      "include_colab_link": true
    },
    "kernelspec": {
      "name": "python3",
      "display_name": "Python 3"
    },
    "language_info": {
      "name": "python"
    }
  },
  "cells": [
    {
      "cell_type": "markdown",
      "metadata": {
        "id": "view-in-github",
        "colab_type": "text"
      },
      "source": [
        "<a href=\"https://colab.research.google.com/github/noviadwiputri21/Novia-Dwi-Putri/blob/main/P3_NoviaDwiPutri.ipynb\" target=\"_parent\"><img src=\"https://colab.research.google.com/assets/colab-badge.svg\" alt=\"Open In Colab\"/></a>"
      ]
    },
    {
      "cell_type": "code",
      "execution_count": 2,
      "metadata": {
        "colab": {
          "base_uri": "https://localhost:8080/"
        },
        "id": "qYIXt1ItqsDX",
        "outputId": "70d351c3-6a9f-4303-ddcd-8fed35badfe8"
      },
      "outputs": [
        {
          "output_type": "stream",
          "name": "stdout",
          "text": [
            "7\n"
          ]
        }
      ],
      "source": [
        "#Contoh Soal Array 1\n",
        "NumbInt = [9,8,7,6,5,4,3,2,1,0]\n",
        "\n",
        "print(NumbInt[2])\n"
      ]
    },
    {
      "cell_type": "code",
      "source": [
        "#Contoh Soal Array 2\n",
        "x = [0 for i in range (10)]\n",
        "\n",
        "print(x)"
      ],
      "metadata": {
        "colab": {
          "base_uri": "https://localhost:8080/"
        },
        "id": "1sAg6-rtuRNs",
        "outputId": "4c408862-772a-4f66-df8c-ea004610daec"
      },
      "execution_count": 5,
      "outputs": [
        {
          "output_type": "stream",
          "name": "stdout",
          "text": [
            "[0, 0, 0, 0, 0, 0, 0, 0, 0, 0]\n"
          ]
        }
      ]
    },
    {
      "cell_type": "code",
      "source": [
        "#Contoh Soal Array 3\n",
        "Y = [ '*' for i in range (10) ]\n",
        "\n",
        "print(Y[4])"
      ],
      "metadata": {
        "colab": {
          "base_uri": "https://localhost:8080/"
        },
        "id": "legWW2IDuiw9",
        "outputId": "195b0444-5622-4b7b-ed1d-0ec4690030d4"
      },
      "execution_count": 20,
      "outputs": [
        {
          "output_type": "stream",
          "name": "stdout",
          "text": [
            "*\n"
          ]
        }
      ]
    },
    {
      "cell_type": "code",
      "source": [
        "#Contoh Soal Array 4\n",
        "Z = [1, 2, 4, -1, 100, 2, 0, -1, 3, 9]\n",
        "print(Z[4])\n",
        "N = Z[2] + Z[4]\n",
        "print (f\"N:\", N)"
      ],
      "metadata": {
        "colab": {
          "base_uri": "https://localhost:8080/"
        },
        "id": "HJ8RmNJxvn8T",
        "outputId": "624a7697-c797-4c90-a7d0-dce374aef1be"
      },
      "execution_count": 15,
      "outputs": [
        {
          "output_type": "stream",
          "name": "stdout",
          "text": [
            "100\n",
            "N: 104\n"
          ]
        }
      ]
    },
    {
      "cell_type": "code",
      "source": [
        "#Contoh Soal Array 5\n",
        "Nomor = [0 for i in range (10)]\n",
        "for i in range(0,10): Nomor [i] = int(input())\n",
        "print(Nomor)"
      ],
      "metadata": {
        "colab": {
          "base_uri": "https://localhost:8080/"
        },
        "id": "97P8_QL6zdti",
        "outputId": "4c253c18-e134-49e5-9d3d-3baa6181eef8"
      },
      "execution_count": 26,
      "outputs": [
        {
          "output_type": "stream",
          "name": "stdout",
          "text": [
            "1\n",
            "2\n",
            "3\n",
            "4\n",
            "5\n",
            "6\n",
            "7\n",
            "8\n",
            "9\n",
            "10\n",
            "[1, 2, 3, 4, 5, 6, 7, 8, 9, 10]\n"
          ]
        }
      ]
    },
    {
      "cell_type": "code",
      "source": [
        "#Contoh Soal Array 6\n",
        "V = [9 for i in range (8)]\n",
        "for i in range (0,8):\n",
        "  print(V[i])"
      ],
      "metadata": {
        "colab": {
          "base_uri": "https://localhost:8080/"
        },
        "id": "CTjvx2Ld0ivZ",
        "outputId": "64c4eb1e-b8bc-4805-988d-35a3a4fcd470"
      },
      "execution_count": 29,
      "outputs": [
        {
          "output_type": "stream",
          "name": "stdout",
          "text": [
            "9\n",
            "9\n",
            "9\n",
            "9\n",
            "9\n",
            "9\n",
            "9\n",
            "9\n"
          ]
        }
      ]
    },
    {
      "cell_type": "code",
      "source": [
        "#Latihan Soal Array\n",
        "# Program: Perkalian Array dan Mencari Nilai Ekstrem\n",
        "\n",
        "# 1. Inisialisasi array S\n",
        "S = [4, 1, -1, 10, 0, 12]\n",
        "\n",
        "# 2. Input nilai D dari pengguna\n",
        "D = int(input(\"Masukkan nilai D (pengali): \"))\n",
        "\n",
        "# 3. Kalikan setiap elemen S dengan D\n",
        "S = [elemen * D for elemen in S]\n",
        "\n",
        "# 4. Tampilkan hasil array setelah dikalikan\n",
        "print(\"Array S setelah dikalikan dengan D:\")\n",
        "print(S)\n",
        "\n",
        "# 5. Cari nilai maksimum dan minimum\n",
        "maks = max(S)\n",
        "minim = min(S)\n",
        "\n",
        "# 6. Tampilkan nilai maksimum dan minimum\n",
        "print(\"Nilai terbesar dalam array:\", maks)\n",
        "print(\"Nilai terkecil dalam array:\", minim)"
      ],
      "metadata": {
        "colab": {
          "base_uri": "https://localhost:8080/"
        },
        "id": "T7kPPhVy2D3x",
        "outputId": "21d3a004-fe9b-4eb5-f6b8-b9dda4c9a7c1"
      },
      "execution_count": 44,
      "outputs": [
        {
          "output_type": "stream",
          "name": "stdout",
          "text": [
            "Masukkan nilai D (pengali): 2\n",
            "Array S setelah dikalikan dengan D:\n",
            "[8, 2, -2, 20, 0, 24]\n",
            "Nilai terbesar dalam array: 24\n",
            "Nilai terkecil dalam array: -2\n"
          ]
        }
      ]
    },
    {
      "cell_type": "code",
      "source": [
        "#Contoh Soal Matriks 1\n",
        "Matm = [[2,4,6,8,9],\n",
        "        [1,3,5,7,6],\n",
        "        [1,2,3,4,5]]\n",
        "\n",
        ""
      ],
      "metadata": {
        "id": "eAwrMXhq8ZpN"
      },
      "execution_count": null,
      "outputs": []
    },
    {
      "cell_type": "code",
      "source": [
        "# Program IsiMatriks;\n",
        "# Isi matriks dan menulis ke layar\n",
        "# KAMUS\n",
        "# M : matriks of integer\n",
        "# NBrs, NKol : int (ukuran brs & kol)\n",
        "# i, j : int (indeks)\n",
        "# ALGORITMA\n",
        "# deklarasi matriks\n",
        "NBrs = 5; NKol = 5;\n",
        "M = [[0 for j in range(NKol)] for i in range(NBrs)]\n",
        "\n",
        "# Mengisi matriks ukuran NBrsxNKol\n",
        "for i in range (NBrs):\n",
        "     for j in range (NKol):\n",
        "          M[i][j] = i * j\n",
        "# Menuliskan isi matriks ke layar"
      ],
      "metadata": {
        "id": "Avu_hzGJ98Mk"
      },
      "execution_count": 52,
      "outputs": []
    },
    {
      "cell_type": "code",
      "source": [
        "MatM=[[1,2,3,4,5,6],\n",
        "      [2,3,4,5,6,7],\n",
        "      [4,5,6,7,2,1]]\n",
        "print(MatM)"
      ],
      "metadata": {
        "colab": {
          "base_uri": "https://localhost:8080/"
        },
        "id": "x8ENUGBM_Ct0",
        "outputId": "7d070088-77b7-4787-e234-94352a5ff49f"
      },
      "execution_count": 53,
      "outputs": [
        {
          "output_type": "stream",
          "name": "stdout",
          "text": [
            "[[1, 2, 3, 4, 5, 6], [2, 3, 4, 5, 6, 7], [4, 5, 6, 7, 2, 1]]\n"
          ]
        }
      ]
    }
  ]
}