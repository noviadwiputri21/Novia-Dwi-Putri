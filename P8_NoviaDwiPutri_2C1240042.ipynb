{
  "nbformat": 4,
  "nbformat_minor": 0,
  "metadata": {
    "colab": {
      "provenance": [],
      "authorship_tag": "ABX9TyOH090TciLDBSjeb4Sg8u7W",
      "include_colab_link": true
    },
    "kernelspec": {
      "name": "python3",
      "display_name": "Python 3"
    },
    "language_info": {
      "name": "python"
    }
  },
  "cells": [
    {
      "cell_type": "markdown",
      "metadata": {
        "id": "view-in-github",
        "colab_type": "text"
      },
      "source": [
        "<a href=\"https://colab.research.google.com/github/noviadwiputri21/Novia-Dwi-Putri/blob/main/P8_NoviaDwiPutri_2C1240042.ipynb\" target=\"_parent\"><img src=\"https://colab.research.google.com/assets/colab-badge.svg\" alt=\"Open In Colab\"/></a>"
      ]
    },
    {
      "cell_type": "code",
      "source": [
        "#Latihan Soal 1 dengan Bu Sevi\n",
        "S = [4, 1, -1, 10, 0, 12]\n",
        "\n",
        "D = int(input(\"Masukkan nilai D: \"))\n",
        "\n",
        "S = [x * D for x in S]\n",
        "\n",
        "print(\"Array setelah dikalikan dengan D:\", S)"
      ],
      "metadata": {
        "colab": {
          "base_uri": "https://localhost:8080/"
        },
        "id": "jg62ikN8Sp4E",
        "outputId": "0a380824-e4f9-46f2-8b7f-413d79f4f5c8"
      },
      "execution_count": 15,
      "outputs": [
        {
          "output_type": "stream",
          "name": "stdout",
          "text": [
            "Masukkan nilai D: 2\n",
            "Array setelah dikalikan dengan D: [8, 2, -2, 20, 0, 24]\n"
          ]
        }
      ]
    },
    {
      "cell_type": "code",
      "source": [
        "# Latihan Soal 2 dengan Bu Sevi\n",
        "T = [9, 12, 30, -1, 0, 4, -1, 3, 30, 14]\n",
        "terbesar = T [0]\n",
        "for i in range(1, len(T)) :\n",
        "    if T[i] > terbesar :\n",
        "        terbesar = T[i]\n",
        "print(\"Nilai terbesar\", terbesar)\n",
        "\n",
        "T = [1, 3, 5, 8, -12, 90, 3, 5]\n",
        "terbesar = T [0]\n",
        "for i in range(1, len(T)) :\n",
        "    if T[i] > terbesar :\n",
        "        terbesar = T[i]\n",
        "print(\"Nilai terbesar\", terbesar)\n"
      ],
      "metadata": {
        "colab": {
          "base_uri": "https://localhost:8080/"
        },
        "id": "1OkOdfu4Svcr",
        "outputId": "492b7cd3-3e7a-4a06-becf-8674ea4e75de"
      },
      "execution_count": 38,
      "outputs": [
        {
          "output_type": "stream",
          "name": "stdout",
          "text": [
            "Nilai terbesar 30\n",
            "Nilai terbesar 90\n"
          ]
        }
      ]
    },
    {
      "cell_type": "code",
      "source": [
        "arr = [10, 20, 30, 40]\n",
        "arr"
      ],
      "metadata": {
        "colab": {
          "base_uri": "https://localhost:8080/"
        },
        "id": "gkBnZlqTRqCz",
        "outputId": "dfa4c406-ddd4-4e5c-bd0e-327fc534e719"
      },
      "execution_count": 5,
      "outputs": [
        {
          "output_type": "execute_result",
          "data": {
            "text/plain": [
              "[10, 20, 30, 40]"
            ]
          },
          "metadata": {},
          "execution_count": 5
        }
      ]
    },
    {
      "cell_type": "code",
      "source": [
        "list_numbers = [1, 2, 3, 4, 5]\n",
        "list_numbers"
      ],
      "metadata": {
        "colab": {
          "base_uri": "https://localhost:8080/"
        },
        "id": "dNi1xBt1RvRq",
        "outputId": "30893703-e9ec-4622-b855-dc58111e22a0"
      },
      "execution_count": 6,
      "outputs": [
        {
          "output_type": "execute_result",
          "data": {
            "text/plain": [
              "[1, 2, 3, 4, 5]"
            ]
          },
          "metadata": {},
          "execution_count": 6
        }
      ]
    },
    {
      "cell_type": "code",
      "source": [
        "list_numbers[0] = 100  # Mengubah elemen pertama menjadi 100\n",
        "list_numbers[0]"
      ],
      "metadata": {
        "colab": {
          "base_uri": "https://localhost:8080/"
        },
        "id": "FH10eaeNRyLz",
        "outputId": "4349cdcf-8139-48b8-80e5-4fe09094cf1f"
      },
      "execution_count": 7,
      "outputs": [
        {
          "output_type": "execute_result",
          "data": {
            "text/plain": [
              "100"
            ]
          },
          "metadata": {},
          "execution_count": 7
        }
      ]
    },
    {
      "cell_type": "code",
      "source": [
        "arr = [1, 2, 3, 4, 5]\n",
        "arr"
      ],
      "metadata": {
        "colab": {
          "base_uri": "https://localhost:8080/"
        },
        "id": "kAeWeTbYR7lz",
        "outputId": "8e16455d-6e40-4a3c-d942-b48857584486"
      },
      "execution_count": 8,
      "outputs": [
        {
          "output_type": "execute_result",
          "data": {
            "text/plain": [
              "[1, 2, 3, 4, 5]"
            ]
          },
          "metadata": {},
          "execution_count": 8
        }
      ]
    },
    {
      "cell_type": "code",
      "source": [
        "data = [1, 2, 3, 'hello', 5.5]  # array dengan elemen tipe berbeda\n",
        "data"
      ],
      "metadata": {
        "colab": {
          "base_uri": "https://localhost:8080/"
        },
        "id": "mYs69DaZSPmT",
        "outputId": "b670708a-eb03-4845-fec0-7e24de22b2d7"
      },
      "execution_count": 9,
      "outputs": [
        {
          "output_type": "execute_result",
          "data": {
            "text/plain": [
              "[1, 2, 3, 'hello', 5.5]"
            ]
          },
          "metadata": {},
          "execution_count": 9
        }
      ]
    },
    {
      "cell_type": "code",
      "source": [
        "arr = [0] * 5  # Membuat array dengan 5 elemen, semua berisi 0\n",
        "arr"
      ],
      "metadata": {
        "colab": {
          "base_uri": "https://localhost:8080/"
        },
        "id": "kMPOaCtxSUXa",
        "outputId": "eb1d1580-13cf-4dc6-a564-606f96db894d"
      },
      "execution_count": 10,
      "outputs": [
        {
          "output_type": "execute_result",
          "data": {
            "text/plain": [
              "[0, 0, 0, 0, 0]"
            ]
          },
          "metadata": {},
          "execution_count": 10
        }
      ]
    },
    {
      "cell_type": "code",
      "source": [
        "arr = [10, 20, 30, 40]\n",
        "print(arr[0])  # Output: 10 (indeks pertama)\n",
        "print(arr[3])  # Output: 40 (indeks terakhir)"
      ],
      "metadata": {
        "colab": {
          "base_uri": "https://localhost:8080/"
        },
        "id": "ox4VG7ozSYLz",
        "outputId": "6dd23b43-ba9a-41fe-ace9-67913e8b3386"
      },
      "execution_count": 11,
      "outputs": [
        {
          "output_type": "stream",
          "name": "stdout",
          "text": [
            "10\n",
            "40\n"
          ]
        }
      ]
    },
    {
      "cell_type": "code",
      "source": [
        "arr = [10, 20, 30, 40, 50]\n",
        "for elemen in arr:\n",
        "    print(elemen)\n"
      ],
      "metadata": {
        "colab": {
          "base_uri": "https://localhost:8080/"
        },
        "id": "ZH2w0SfPSZ-t",
        "outputId": "f984d5ed-7186-4a56-cafa-52b209138f30"
      },
      "execution_count": 12,
      "outputs": [
        {
          "output_type": "stream",
          "name": "stdout",
          "text": [
            "10\n",
            "20\n",
            "30\n",
            "40\n",
            "50\n"
          ]
        }
      ]
    },
    {
      "cell_type": "code",
      "source": [
        "total = 0\n",
        "for elemen in arr:\n",
        "    total += elemen\n",
        "print(total)  # Output: 150"
      ],
      "metadata": {
        "colab": {
          "base_uri": "https://localhost:8080/"
        },
        "id": "Wj7Ly4OpSevU",
        "outputId": "641e92ce-a985-41f3-b60c-393c97820fd4"
      },
      "execution_count": 13,
      "outputs": [
        {
          "output_type": "stream",
          "name": "stdout",
          "text": [
            "150\n"
          ]
        }
      ]
    },
    {
      "cell_type": "code",
      "source": [
        "# P8\n",
        "# Membuat array dengan angka acak\n",
        "arr = [30, 50, 10, 20, 12,8, 19, 13, 17, 2, 15, 27, 5, 28]\n",
        "\n",
        "# 1. Nilai maksimum\n",
        "nilai_maks = max(arr)\n",
        "print(\"Nilai Maksimum:\", nilai_maks)\n",
        "\n",
        "# 2. Nilai minimum\n",
        "nilai_min = min(arr)\n",
        "print(\"Nilai Minimum:\", nilai_min)\n",
        "\n",
        "# 3. Hasil penjumlahan seluruh elemen\n",
        "hasil_penjumlahan = sum(arr)\n",
        "print(\"Hasil Penjumlahan:\", hasil_penjumlahan)\n",
        "\n",
        "# 4. Jumlah seluruh elemen\n",
        "jumlah_arr = len(arr)\n",
        "print(\"Jumlah Elemen:\", jumlah_arr)\n",
        "\n",
        "# 5. Rata-rata seluruh elemen\n",
        "rata_rata = hasil_penjumlahan / jumlah_arr\n",
        "print(\"Rata-rata:\", rata_rata)"
      ],
      "metadata": {
        "colab": {
          "base_uri": "https://localhost:8080/"
        },
        "id": "M2NcJtYNSghL",
        "outputId": "33d0bb7d-040d-4551-bedd-66151eadbe58"
      },
      "execution_count": 33,
      "outputs": [
        {
          "output_type": "stream",
          "name": "stdout",
          "text": [
            "Nilai Maksimum: 50\n",
            "Nilai Minimum: 2\n",
            "Hasil Penjumlahan: 256\n",
            "Jumlah Elemen: 14\n",
            "Rata-rata: 18.285714285714285\n"
          ]
        }
      ]
    }
  ]
}