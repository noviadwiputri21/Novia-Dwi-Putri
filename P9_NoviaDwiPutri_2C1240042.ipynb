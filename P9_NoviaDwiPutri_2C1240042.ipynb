{
  "nbformat": 4,
  "nbformat_minor": 0,
  "metadata": {
    "colab": {
      "provenance": [],
      "authorship_tag": "ABX9TyMuFPylvU9LkKVePuMmXBy0",
      "include_colab_link": true
    },
    "kernelspec": {
      "name": "python3",
      "display_name": "Python 3"
    },
    "language_info": {
      "name": "python"
    }
  },
  "cells": [
    {
      "cell_type": "markdown",
      "metadata": {
        "id": "view-in-github",
        "colab_type": "text"
      },
      "source": [
        "<a href=\"https://colab.research.google.com/github/noviadwiputri21/Novia-Dwi-Putri/blob/main/P9_NoviaDwiPutri_2C1240042.ipynb\" target=\"_parent\"><img src=\"https://colab.research.google.com/assets/colab-badge.svg\" alt=\"Open In Colab\"/></a>"
      ]
    },
    {
      "cell_type": "code",
      "source": [
        "#masukkan Nama anda\n",
        "nama =input(\"masukkan nama anda: \")\n",
        "#Mencetak Pesan\n",
        "print (f\"Halo {nama}! Selamat Belajar Python!\")"
      ],
      "metadata": {
        "colab": {
          "base_uri": "https://localhost:8080/"
        },
        "id": "-GryqXo6ba7P",
        "outputId": "82353584-cffd-4647-9cb5-44874893cb38"
      },
      "execution_count": 14,
      "outputs": [
        {
          "output_type": "stream",
          "name": "stdout",
          "text": [
            "masukkan nama anda: novia\n",
            "Halo novia! Selamat Belajar Python!\n"
          ]
        }
      ]
    },
    {
      "cell_type": "code",
      "source": [
        "panjang = input (\"masukkan panjang: \")\n",
        "lebar = input (\"masukkan lebar:\")\n",
        "luas = int(panjang) * int (lebar)\n",
        "print (\"luas persegi panjang adalah\", luas)"
      ],
      "metadata": {
        "colab": {
          "base_uri": "https://localhost:8080/"
        },
        "id": "I4lDmb5YSEf9",
        "outputId": "ef265bab-37d1-404b-de70-8973f1d996ec"
      },
      "execution_count": 8,
      "outputs": [
        {
          "output_type": "stream",
          "name": "stdout",
          "text": [
            "masukkan panjang: 5\n",
            "masukkan lebar:3\n",
            "luas persegi panjang adalah 15\n"
          ]
        }
      ]
    },
    {
      "cell_type": "code",
      "source": [
        "angka = int(input (\"masukkan angka: \"))\n",
        "if angka % 2 == 0:\n",
        "    print(angka, \"adalah bilangan genap\")\n",
        "else:\n",
        "    print(angka, \"adalah bilangan ganjil\")"
      ],
      "metadata": {
        "colab": {
          "base_uri": "https://localhost:8080/"
        },
        "id": "YAi_3F11Re6E",
        "outputId": "19d8f8d3-5fbb-4d3e-c20f-83195da643ba"
      },
      "execution_count": 5,
      "outputs": [
        {
          "output_type": "stream",
          "name": "stdout",
          "text": [
            "masukkan angka: 7\n",
            "7 adalah bilangan ganjil\n"
          ]
        }
      ]
    },
    {
      "cell_type": "code",
      "source": [
        "print(\"deretan bilangan 1 sampai 20\")\n",
        "for i in range(1, 21):\n",
        "    print(i, end= \" \")"
      ],
      "metadata": {
        "colab": {
          "base_uri": "https://localhost:8080/"
        },
        "id": "uPY0TxI7RobV",
        "outputId": "6b621e96-c04c-4ced-de5e-697bc57ccaaa"
      },
      "execution_count": 6,
      "outputs": [
        {
          "output_type": "stream",
          "name": "stdout",
          "text": [
            "deretan bilangan 1 sampai 20\n",
            "1 2 3 4 5 6 7 8 9 10 11 12 13 14 15 16 17 18 19 20 "
          ]
        }
      ]
    },
    {
      "cell_type": "code",
      "source": [
        "a = int(input(\"masukkan bilangan pertama: \"))\n",
        "b = int(input(\"masukkan bilangan kedua: \"))\n",
        "for i in range(a, b+1):\n",
        "    jumlah = sum(range(a, b+1))\n",
        "print(f\"jumlah dari (a)sampai (b) adalah {jumlah}\")\n",
        "for i in range(a, b+1):\n",
        "    print(i, end= \" \")\n"
      ],
      "metadata": {
        "colab": {
          "base_uri": "https://localhost:8080/"
        },
        "id": "5KcoB36SUduv",
        "outputId": "e39b8927-8211-4af1-f161-b0e56ea77029"
      },
      "execution_count": 12,
      "outputs": [
        {
          "output_type": "stream",
          "name": "stdout",
          "text": [
            "masukkan bilangan pertama: 3\n",
            "masukkan bilangan kedua: 7\n",
            "jumlah dari (a)sampai (b) adalah 25\n",
            "3 4 5 6 7 "
          ]
        }
      ]
    },
    {
      "cell_type": "code",
      "source": [
        "a = int(input(\"masukkan angka: \"))\n",
        "b = int(input(\"masukkan angka: \"))\n",
        "print (f\"bilangan genap dalam rentang {a} sampai {b} adalah:\")\n",
        "for i in range(a, b+1):\n",
        "    if i % 2 == 0:\n",
        "        print(i)"
      ],
      "metadata": {
        "colab": {
          "base_uri": "https://localhost:8080/"
        },
        "id": "5qBAzg5BZ3iV",
        "outputId": "a9e6650e-69cf-49a1-c795-c40f685b8b3e"
      },
      "execution_count": 15,
      "outputs": [
        {
          "output_type": "stream",
          "name": "stdout",
          "text": [
            "masukkan angka: 3\n",
            "masukkan angka: 10\n",
            "bilangan genap dalam rentang 3 sampai 10 adalah:\n",
            "4\n",
            "6\n",
            "8\n",
            "10\n"
          ]
        }
      ]
    },
    {
      "cell_type": "code",
      "source": [
        "A = [5, 2, 8, 1]\n",
        "array_terbalik = [0] * len (A)\n",
        "for i in range(len(A)):\n",
        "    array_terbalik[i] = A[len(A) - i - 1]\n",
        "print(array_terbalik)"
      ],
      "metadata": {
        "colab": {
          "base_uri": "https://localhost:8080/"
        },
        "id": "N8LeZG2acOb-",
        "outputId": "d6460c49-7bc2-46b1-88b2-2e342e92bb96"
      },
      "execution_count": 22,
      "outputs": [
        {
          "output_type": "stream",
          "name": "stdout",
          "text": [
            "[1, 8, 2, 5]\n"
          ]
        }
      ]
    },
    {
      "cell_type": "code",
      "source": [
        "#Menentukan bilangan prima\n",
        "\n",
        "angka = int(input(\"masukkan bilangan bulat: \"))\n",
        "prima = True\n",
        "if angka <2:\n",
        "   prima = False\n",
        "else:\n",
        "    for i in range(2, int(angka**0.5) + 1):\n",
        "        if (angka % i) == 0:\n",
        "            prima = False\n",
        "            break\n",
        "if prima:\n",
        "    print(f\"{angka} adalah bilangan prima\")\n",
        "else:\n",
        "    print(f\"{angka} bukan bilangan prima\")"
      ],
      "metadata": {
        "colab": {
          "base_uri": "https://localhost:8080/"
        },
        "id": "MqVPpbPHkUsI",
        "outputId": "ace634ab-0813-4194-c9af-5712037da4ec"
      },
      "execution_count": 27,
      "outputs": [
        {
          "output_type": "stream",
          "name": "stdout",
          "text": [
            "masukkan bilangan bulat: 13\n",
            "13 adalah bilangan prima\n"
          ]
        }
      ]
    }
  ]
}