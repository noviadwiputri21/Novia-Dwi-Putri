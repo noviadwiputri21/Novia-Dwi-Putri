{
  "nbformat": 4,
  "nbformat_minor": 0,
  "metadata": {
    "colab": {
      "provenance": [],
      "authorship_tag": "ABX9TyMFX5kNK+7qI9ze7zdKDwzX",
      "include_colab_link": true
    },
    "kernelspec": {
      "name": "python3",
      "display_name": "Python 3"
    },
    "language_info": {
      "name": "python"
    }
  },
  "cells": [
    {
      "cell_type": "markdown",
      "metadata": {
        "id": "view-in-github",
        "colab_type": "text"
      },
      "source": [
        "<a href=\"https://colab.research.google.com/github/noviadwiputri21/Novia-Dwi-Putri/blob/main/P2NoviaDwiPutri_2C1240042.ipynb\" target=\"_parent\"><img src=\"https://colab.research.google.com/assets/colab-badge.svg\" alt=\"Open In Colab\"/></a>"
      ]
    },
    {
      "cell_type": "code",
      "source": [
        "#Soal 1\n",
        "bilangan = int(input(\"masukkan sebuah bilangan :\"))\n",
        "if bilangan % 3 == 0 :\n",
        "  print(\"bilangan habis dibagi tiga\")\n",
        "else:\n",
        "  print(\"bilangan tidak habis dibagi tiga\")\n"
      ],
      "metadata": {
        "colab": {
          "base_uri": "https://localhost:8080/"
        },
        "id": "nhh1FxONvdoJ",
        "outputId": "f85b0228-440c-4594-ac7b-463152edb1f5"
      },
      "execution_count": 3,
      "outputs": [
        {
          "output_type": "stream",
          "name": "stdout",
          "text": [
            "masukkan sebuah bilangan :10\n",
            "bilangan tidak habis dibagi tiga\n"
          ]
        }
      ]
    },
    {
      "cell_type": "code",
      "source": [
        "#Soal 2\n",
        "nama = input(\"masukan nama: \")\n",
        "kelamin = input(\"masukan jenis kelamin(pria/wanita): \")\n",
        "\n",
        "if kelamin == \"pria\":\n",
        "  print(\"Halo bro\", nama)\n",
        "elif kelamin == \"wanita\":\n",
        "  print(\"halo sis\", nama)\n",
        "else:\n",
        "  print(\"tidak terdeteksi\")"
      ],
      "metadata": {
        "colab": {
          "base_uri": "https://localhost:8080/"
        },
        "id": "lA0JEcYKtar-",
        "outputId": "b261ad7a-2d8c-4bfb-cd86-c6f64d62c2ef"
      },
      "execution_count": 2,
      "outputs": [
        {
          "output_type": "stream",
          "name": "stdout",
          "text": [
            "masukan nama: Novia\n",
            "masukan jenis kelamin(pria/wanita): wanita\n",
            "halo sis Novia\n"
          ]
        }
      ]
    },
    {
      "cell_type": "code",
      "source": [
        "#Soal 3\n",
        "jumlah_barang = int(input(\"Masukkan jumlah barang yang dibeli: \"))\n",
        "total_belanja = 0\n",
        "\n",
        "# Looping untuk setiap barang\n",
        "for i in range(1, jumlah_barang + 1):\n",
        "    print(f\"\\nBarang ke-{i}:\")\n",
        "    harga_satuan = float(input(\"Masukkan harga satuan barang: \"))\n",
        "    jumlah_unit = int(input(\"Masukkan jumlah unit barang: \"))\n",
        "    total_harga_barang = harga_satuan * jumlah_unit\n",
        "    total_belanja += total_harga_barang\n",
        "    print(f\"Total harga barang ke-{i}: {total_harga_barang:.2f}\")\n",
        "\n",
        "# Menampilkan total belanja\n",
        "print(f\"\\nTotal belanja seluruhnya: {total_belanja:.2f}\")\n"
      ],
      "metadata": {
        "colab": {
          "base_uri": "https://localhost:8080/"
        },
        "id": "cauj-ALg0hY9",
        "outputId": "ed9b03f9-2485-4af3-d8b4-31379be053aa"
      },
      "execution_count": 5,
      "outputs": [
        {
          "output_type": "stream",
          "name": "stdout",
          "text": [
            "Masukkan jumlah barang yang dibeli: 3\n",
            "\n",
            "Barang ke-1:\n",
            "Masukkan harga satuan barang: 10.000\n",
            "Masukkan jumlah unit barang: 5\n",
            "Total harga barang ke-1: 50.00\n",
            "\n",
            "Barang ke-2:\n",
            "Masukkan harga satuan barang: 5.000\n",
            "Masukkan jumlah unit barang: 5\n",
            "Total harga barang ke-2: 25.00\n",
            "\n",
            "Barang ke-3:\n",
            "Masukkan harga satuan barang: 20.000\n",
            "Masukkan jumlah unit barang: 8\n",
            "Total harga barang ke-3: 160.00\n",
            "\n",
            "Total belanja seluruhnya: 235.00\n"
          ]
        }
      ]
    },
    {
      "cell_type": "code",
      "source": [
        "#Contoh 2\n",
        "grade = float(input(\"Masukkan Nilai Anda: \"))\n",
        "\n",
        "if grade == 100: print(\"perfect\")\n",
        "\n",
        "if grade == 90: print(\"ok\")\n",
        "print(\"keep working hard!\")\n"
      ],
      "metadata": {
        "colab": {
          "base_uri": "https://localhost:8080/"
        },
        "id": "LGHIYhrT6-o8",
        "outputId": "84c6a5d3-3c55-46fe-978f-37fbd33bc13f"
      },
      "execution_count": 10,
      "outputs": [
        {
          "output_type": "stream",
          "name": "stdout",
          "text": [
            "Masukkan Nilai Anda: 100\n",
            "perfect\n",
            "keep working hard!\n"
          ]
        }
      ]
    },
    {
      "cell_type": "code",
      "source": [
        "grade = float(input(\"Masukkan Nilai Anda: \"))\n",
        "\n",
        "if grade == 100:\n",
        "    print(\"perfect\")\n",
        "\n",
        "if grade == 90:\n",
        "    print(\"ok\")\n",
        "    print(\"keep working hard!\")"
      ],
      "metadata": {
        "colab": {
          "base_uri": "https://localhost:8080/"
        },
        "id": "S1F-yOKc8_U7",
        "outputId": "58edd96d-9f20-42d4-b1df-25eda5f34863"
      },
      "execution_count": 20,
      "outputs": [
        {
          "output_type": "stream",
          "name": "stdout",
          "text": [
            "Masukkan Nilai Anda: 90\n",
            "ok\n",
            "keep working hard!\n"
          ]
        }
      ]
    },
    {
      "cell_type": "code",
      "source": [
        "str_input = input('Enter your grade: ')\n",
        "grade = int(str_input)\n",
        "\n",
        "if grade == 100:\n",
        "    print(\"perfect\")\n",
        "else:\n",
        "    print(\"keep it up\")"
      ],
      "metadata": {
        "colab": {
          "base_uri": "https://localhost:8080/"
        },
        "id": "8VFpW0ea9L1z",
        "outputId": "5d5f83f8-a83e-4e3a-b55e-2bbb10517ae2"
      },
      "execution_count": 22,
      "outputs": [
        {
          "output_type": "stream",
          "name": "stdout",
          "text": [
            "Enter your grade: 85\n",
            "keep it up\n"
          ]
        }
      ]
    },
    {
      "cell_type": "code",
      "source": [
        "Lapar = input(\"Apakah zaki lapar? \")\n",
        "if(\"lapar == ya\"):\n",
        "    print(\"Zaki makan\")\n",
        "else:\n",
        "    print(\"Zaki tidak makan\")"
      ],
      "metadata": {
        "colab": {
          "base_uri": "https://localhost:8080/"
        },
        "id": "4U7KzC5Y9RVa",
        "outputId": "28f18d58-d3f3-463d-ac55-5a92d2f88a8a"
      },
      "execution_count": 23,
      "outputs": [
        {
          "output_type": "stream",
          "name": "stdout",
          "text": [
            "Apakah zaki lapar? ya\n",
            "Zaki makan\n"
          ]
        }
      ]
    },
    {
      "cell_type": "code",
      "source": [
        "str_input = input('Enter your grade: ')\n",
        "grade = int(str_input)\n",
        "\n",
        "if grade == 100:\n",
        "    print(\"perfect\")\n",
        "elif grade >= 85:\n",
        "    print(\"awesome\")\n",
        "elif grade >= 65:\n",
        "    print(\"passed the exam\")\n",
        "else:\n",
        "    print(\"below the passing grade\")"
      ],
      "metadata": {
        "colab": {
          "base_uri": "https://localhost:8080/"
        },
        "id": "9DjtOdC79Xcy",
        "outputId": "fd5eff6f-2d61-4c9a-ebd0-eadc2e975aab"
      },
      "execution_count": 24,
      "outputs": [
        {
          "output_type": "stream",
          "name": "stdout",
          "text": [
            "Enter your grade: 80\n",
            "passed the exam\n"
          ]
        }
      ]
    },
    {
      "cell_type": "code",
      "source": [
        "str_input = input('Enter your grade: ')\n",
        "grade = int(str_input)\n",
        "\n",
        "if grade == 100:\n",
        "    print(\"perfect\")\n",
        "\n",
        "elif grade >= 85:\n",
        "    print(\"awesome\")\n",
        "\n",
        "elif grade >= 65:\n",
        "    print(\"passed the exam\")\n",
        "\n",
        "    if grade <= 70:\n",
        "        print(\"but you need to improve it!\")\n",
        "    else:\n",
        "        print(\"with ok grade\")\n",
        "\n",
        "else:\n",
        "    print(\"below the passing grade\")"
      ],
      "metadata": {
        "colab": {
          "base_uri": "https://localhost:8080/"
        },
        "id": "MKDpkNDe9dQU",
        "outputId": "999085c7-a352-4143-96ec-07d08e3702a9"
      },
      "execution_count": 25,
      "outputs": [
        {
          "output_type": "stream",
          "name": "stdout",
          "text": [
            "Enter your grade: 100\n",
            "perfect\n"
          ]
        }
      ]
    }
  ]
}